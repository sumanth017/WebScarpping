{
  "nbformat": 4,
  "nbformat_minor": 0,
  "metadata": {
    "colab": {
      "name": "Binary_GA.ipynb",
      "provenance": [],
      "include_colab_link": true
    },
    "kernelspec": {
      "name": "python3",
      "display_name": "Python 3"
    },
    "language_info": {
      "name": "python"
    }
  },
  "cells": [
    {
      "cell_type": "markdown",
      "metadata": {
        "id": "view-in-github",
        "colab_type": "text"
      },
      "source": [
        "<a href=\"https://colab.research.google.com/github/sumanth017/WebScarpping/blob/main/Binary_GA.ipynb\" target=\"_parent\"><img src=\"https://colab.research.google.com/assets/colab-badge.svg\" alt=\"Open In Colab\"/></a>"
      ]
    },
    {
      "cell_type": "code",
      "source": [
        ""
      ],
      "metadata": {
        "id": "ybDfw_Sse1zk"
      },
      "execution_count": 62,
      "outputs": []
    },
    {
      "cell_type": "code",
      "source": [
        "\n",
        "#!/usr/bin/env python\n",
        "\n",
        "\n",
        "##########################################################\n",
        "import matplotlib.pyplot as plt\n",
        "import matplotlib.image as mpimg\n",
        "\n",
        "plt.style.use('classic')\n",
        "#############################################################\n",
        "from keras.preprocessing.image import ImageDataGenerator\n",
        "from keras.models import Sequential\n",
        "from keras.layers import Conv2D, MaxPooling2D, BatchNormalization\n",
        "from keras.layers import Activation, Dropout, Flatten, Dense\n",
        "#from keras import backend as K\n",
        "####################################################\n",
        "import os\n",
        "import cv2 as cv\n",
        "from PIL import Image\n",
        "import numpy as np\n",
        "import glob\n",
        "import pandas as pd\n",
        "path = glob.glob(\"/Normal Cells/*\")\n",
        "\n",
        "SIZE = 100\n",
        "nor_img = []  #Many ways to handle data, you can use pandas. Here, we are using a list format.  \n",
        "label = []  #Place holders to define add labels. We will add 0 to all parasitized images and 1 to uninfected.\n",
        "dataset=[]\n",
        "\n",
        "for img in path:\n",
        "    n = cv.imread(img,cv.COLOR_BGR2GRAY)\n",
        "    n.resize((SIZE,SIZE))\n",
        "    #nor_img.append((img,0))\n",
        "    dataset.append(np.array(n))\n",
        "\n",
        "    #dataset.append((n,0))\n",
        "    label.append(0)\n",
        "    \n",
        "#train_data_nm = pd.DataFrame(nor_img,columns=['image','label'],index = None)\n",
        "#train_data_nm\n",
        "len(dataset)\n",
        "\n",
        "#print(dataset)"
      ],
      "metadata": {
        "id": "XR5LvyrMHnF8",
        "colab": {
          "base_uri": "https://localhost:8080/"
        },
        "outputId": "003aad19-c885-4aaf-e6a8-85a9acfcffbc"
      },
      "execution_count": 63,
      "outputs": [
        {
          "output_type": "execute_result",
          "data": {
            "text/plain": [
              "68"
            ]
          },
          "metadata": {},
          "execution_count": 63
        }
      ]
    },
    {
      "cell_type": "code",
      "source": [
        "#from google.colab import drive\n",
        "#drive.mount('/content/drive')"
      ],
      "metadata": {
        "id": "fCWE2Udo2DV5"
      },
      "execution_count": 64,
      "outputs": []
    },
    {
      "cell_type": "code",
      "source": [
        "import pandas as pd\n",
        "path = glob.glob(\"/Severe Cells/*\")\n",
        "severe_img = []\n",
        "counter=0\n",
        "for img in path:\n",
        "      n = cv.imread(img,cv.COLOR_BGR2GRAY)\n",
        "      n.resize((SIZE,SIZE))\n",
        "      dataset.append(np.array(n))\n",
        "      #severe_img.append((n,1))\n",
        "      #dataset.append((n,0))\n",
        "      label.append(1)\n",
        "\n",
        "#for img in severe_img:\n",
        "#    train_data.append((img,1))\n",
        "\n",
        "len(dataset)\n",
        "#print(dataset)\n",
        "# converting data into pandas dataframe for easy visualization \n",
        "#train_data_sv = pd.DataFrame(severe_img,columns=['image','label'],index = None)\n",
        "#train_data_sv"
      ],
      "metadata": {
        "id": "97xjvYCsOME2",
        "colab": {
          "base_uri": "https://localhost:8080/"
        },
        "outputId": "d1015a66-b705-477a-d6bd-b119c6ba7477"
      },
      "execution_count": 65,
      "outputs": [
        {
          "output_type": "execute_result",
          "data": {
            "text/plain": [
              "263"
            ]
          },
          "metadata": {},
          "execution_count": 65
        }
      ]
    },
    {
      "cell_type": "code",
      "source": [
        "dataset = np.array(dataset)\n",
        "label = np.array(label)\n"
      ],
      "metadata": {
        "id": "8P-NzSJ3hF5h"
      },
      "execution_count": 66,
      "outputs": []
    },
    {
      "cell_type": "code",
      "source": [
        "#frames = [train_data_nm, train_data_sv]\n",
        "#type(train_data)\n",
        "#result = pd.concat(frames)\n",
        "#result"
      ],
      "metadata": {
        "id": "Etx0FcKyNkEa"
      },
      "execution_count": 67,
      "outputs": []
    },
    {
      "cell_type": "code",
      "source": [
        "from sklearn.model_selection import train_test_split\n",
        "from tensorflow.keras.utils import to_categorical\n",
        "\n",
        "X_train, X_test, y_train, y_test = train_test_split(dataset, label, test_size = 0.20, random_state = 0)\n",
        "\n",
        "print(len(X_train))\n",
        "\n",
        "#X_train= np.asarray(X_train).astype('float32').reshape((-1,1))\n",
        "#y_train= np.asarray(y_train).astype('float32').reshape((-1,1))\n",
        "print(X_train.shape)\n",
        "print(X_test.shape)\n",
        "print(y_train.shape)\n",
        "print(y_test.shape)\n",
        "\n",
        "#np.asarray(X_train).astype(np.float32)\n",
        "#np.asarray(y_train).astype(np.float32)\n"
      ],
      "metadata": {
        "id": "y3ewq5s6OiV_",
        "colab": {
          "base_uri": "https://localhost:8080/"
        },
        "outputId": "50b0b593-00a9-4005-ae8e-8ccc6cc4f4a9"
      },
      "execution_count": 68,
      "outputs": [
        {
          "output_type": "stream",
          "name": "stdout",
          "text": [
            "210\n",
            "(210, 100, 100)\n",
            "(53, 100, 100)\n",
            "(210,)\n",
            "(53,)\n"
          ]
        }
      ]
    },
    {
      "cell_type": "code",
      "source": [
        "import matplotlib.pyplot as plt\n",
        "import matplotlib.image as mpimg\n",
        "\n",
        "plt.style.use('classic')\n",
        "#############################################################\n",
        "from keras.preprocessing.image import ImageDataGenerator\n",
        "from keras.models import Sequential\n",
        "from keras.layers import Conv2D, MaxPooling2D, BatchNormalization\n",
        "from keras.layers import Activation, Dropout, Flatten, Dense\n",
        "SIZE = 100\n",
        "\n",
        "INPUT_SHAPE = (SIZE, SIZE, 1)   #change to (SIZE, SIZE, 3)\n",
        "\n",
        "\n",
        "model = Sequential()\n",
        "model.add(Conv2D(32, (3, 3), input_shape=INPUT_SHAPE))\n",
        "model.add(Activation('relu'))\n",
        "model.add(MaxPooling2D(pool_size=(2, 2)))\n",
        "\n",
        "model.add(Conv2D(32, (3, 3), kernel_initializer = 'he_uniform'))\n",
        "model.add(Activation('relu'))\n",
        "model.add(MaxPooling2D(pool_size=(2, 2)))\n",
        "\n",
        "model.add(Conv2D(64, (3, 3), kernel_initializer = 'he_uniform'))\n",
        "model.add(Activation('relu'))\n",
        "model.add(MaxPooling2D(pool_size=(2, 2)))\n",
        "\n",
        "model.add(Flatten())\n",
        "model.add(Dense(64))\n",
        "model.add(Activation('relu'))\n",
        "model.add(Dropout(0.5))\n",
        "\n",
        "model.add(Dense(1))\n",
        "model.add(Activation('sigmoid'))  "
      ],
      "metadata": {
        "id": "hOiLhOFe-0Yq"
      },
      "execution_count": 69,
      "outputs": []
    },
    {
      "cell_type": "code",
      "source": [
        "model.compile(loss='binary_crossentropy',\n",
        "              optimizer='rmsprop',             #also try adam\n",
        "              metrics=['accuracy'])\n",
        "\n",
        "print(model.summary())   \n"
      ],
      "metadata": {
        "colab": {
          "base_uri": "https://localhost:8080/"
        },
        "id": "GUzkR_HbSlrv",
        "outputId": "8d2cb867-39a4-45fc-97ee-34a13c0fac44"
      },
      "execution_count": 70,
      "outputs": [
        {
          "output_type": "stream",
          "name": "stdout",
          "text": [
            "Model: \"sequential_5\"\n",
            "_________________________________________________________________\n",
            " Layer (type)                Output Shape              Param #   \n",
            "=================================================================\n",
            " conv2d_15 (Conv2D)          (None, 98, 98, 32)        320       \n",
            "                                                                 \n",
            " activation_25 (Activation)  (None, 98, 98, 32)        0         \n",
            "                                                                 \n",
            " max_pooling2d_15 (MaxPoolin  (None, 49, 49, 32)       0         \n",
            " g2D)                                                            \n",
            "                                                                 \n",
            " conv2d_16 (Conv2D)          (None, 47, 47, 32)        9248      \n",
            "                                                                 \n",
            " activation_26 (Activation)  (None, 47, 47, 32)        0         \n",
            "                                                                 \n",
            " max_pooling2d_16 (MaxPoolin  (None, 23, 23, 32)       0         \n",
            " g2D)                                                            \n",
            "                                                                 \n",
            " conv2d_17 (Conv2D)          (None, 21, 21, 64)        18496     \n",
            "                                                                 \n",
            " activation_27 (Activation)  (None, 21, 21, 64)        0         \n",
            "                                                                 \n",
            " max_pooling2d_17 (MaxPoolin  (None, 10, 10, 64)       0         \n",
            " g2D)                                                            \n",
            "                                                                 \n",
            " flatten_5 (Flatten)         (None, 6400)              0         \n",
            "                                                                 \n",
            " dense_10 (Dense)            (None, 64)                409664    \n",
            "                                                                 \n",
            " activation_28 (Activation)  (None, 64)                0         \n",
            "                                                                 \n",
            " dropout_5 (Dropout)         (None, 64)                0         \n",
            "                                                                 \n",
            " dense_11 (Dense)            (None, 1)                 65        \n",
            "                                                                 \n",
            " activation_29 (Activation)  (None, 1)                 0         \n",
            "                                                                 \n",
            "=================================================================\n",
            "Total params: 437,793\n",
            "Trainable params: 437,793\n",
            "Non-trainable params: 0\n",
            "_________________________________________________________________\n",
            "None\n"
          ]
        }
      ]
    },
    {
      "cell_type": "code",
      "source": [
        "\n",
        "history = model.fit(X_train, \n",
        "                         y_train, \n",
        "                         batch_size = 64, \n",
        "                         verbose = 1, \n",
        "                         epochs = 6,      \n",
        "                         validation_data=(X_test,y_test),\n",
        "                         shuffle = True\n",
        "                     )\n",
        "\n",
        "\n",
        "model.save('cancer_model_10epochs.h5')  \n"
      ],
      "metadata": {
        "id": "4leTa0F3S37Z",
        "colab": {
          "base_uri": "https://localhost:8080/"
        },
        "outputId": "b4cfff0e-d8b9-4c6b-a455-7a807c47a660"
      },
      "execution_count": 71,
      "outputs": [
        {
          "output_type": "stream",
          "name": "stdout",
          "text": [
            "Epoch 1/6\n",
            "4/4 [==============================] - 3s 584ms/step - loss: 231.7908 - accuracy: 0.5619 - val_loss: 10.6668 - val_accuracy: 0.7736\n",
            "Epoch 2/6\n",
            "4/4 [==============================] - 2s 514ms/step - loss: 18.5997 - accuracy: 0.5762 - val_loss: 0.5290 - val_accuracy: 0.7736\n",
            "Epoch 3/6\n",
            "4/4 [==============================] - 2s 513ms/step - loss: 0.6775 - accuracy: 0.7286 - val_loss: 0.5930 - val_accuracy: 0.7925\n",
            "Epoch 4/6\n",
            "4/4 [==============================] - 2s 516ms/step - loss: 0.6279 - accuracy: 0.7286 - val_loss: 0.5316 - val_accuracy: 0.7736\n",
            "Epoch 5/6\n",
            "4/4 [==============================] - 2s 512ms/step - loss: 0.6261 - accuracy: 0.7286 - val_loss: 0.5551 - val_accuracy: 0.7736\n",
            "Epoch 6/6\n",
            "4/4 [==============================] - 2s 509ms/step - loss: 0.6225 - accuracy: 0.7286 - val_loss: 0.5286 - val_accuracy: 0.7736\n"
          ]
        }
      ]
    },
    {
      "cell_type": "code",
      "source": [
        "#plot the training and validation accuracy and loss at each epoch\n",
        "loss = history.history['loss']\n",
        "val_loss = history.history['val_loss']\n",
        "epochs = range(1, len(loss) + 1)\n",
        "plt.plot(epochs, loss, 'y', label='Training loss')\n",
        "plt.plot(epochs, val_loss, 'r', label='Validation loss')\n",
        "plt.title('Training and validation loss')\n",
        "plt.xlabel('Epochs')\n",
        "plt.ylabel('Loss')\n",
        "plt.legend()\n",
        "plt.show()\n",
        "\n",
        "\n",
        "acc = history.history['accuracy']\n",
        "val_acc = history.history['val_accuracy']\n",
        "plt.plot(epochs, acc, 'y', label='Training acc')\n",
        "plt.plot(epochs, val_acc, 'r', label='Validation acc')\n",
        "plt.title('Training and validation accuracy')\n",
        "plt.xlabel('Epochs')\n",
        "plt.ylabel('Accuracy')\n",
        "plt.legend()\n",
        "plt.show()"
      ],
      "metadata": {
        "colab": {
          "base_uri": "https://localhost:8080/",
          "height": 923
        },
        "id": "jjFvDdZz5Xd7",
        "outputId": "675272d3-c0c4-4fdc-fc04-f4a58310963d"
      },
      "execution_count": 72,
      "outputs": [
        {
          "output_type": "display_data",
          "data": {
            "image/png": "[encoded data removed]",
            "text/plain": [
              "<Figure size 640x480 with 1 Axes>"
            ]
          },
          "metadata": {}
        },
        {
          "output_type": "display_data",
          "data": {
            "image/png": "[encoded data removed]",
            "text/plain": [
              "<Figure size 640x480 with 1 Axes>"
            ]
          },
          "metadata": {}
        }
      ]
    },
    {
      "cell_type": "code",
      "source": [
        "import tensorflow as tf\n",
        "import cv2 as cv\n",
        "from tensorflow.keras.applications.resnet50 import preprocess_input, decode_predictions\n",
        "path1 = glob.glob(\"/Test/*.BMP\")\n",
        "print(path1)\n",
        "SIZE = 100\n",
        "\n",
        "#test_img = []  #Many ways to handle data, you can use pandas. Here, we are using a list format.  \n",
        "\n",
        "Load_image = tf.keras.preprocessing.image.load_img(path1[0])\n",
        "n = cv.imread(path1[0],cv.COLOR_BGR2GRAY)\n",
        "n.resize((SIZE,SIZE))\n",
        "\n",
        "#img = X_test[10]\n",
        "input_img = np.expand_dims(n, axis=0)\n",
        "print(n)\n",
        "\n",
        "#plt.imshow(n)\n",
        "prediction=model.predict(input_img)\n",
        "#input_img = np.expand_dims(img, axis=0) #Expand dims so the input is (num images, x, y, c)\n",
        "#print(\"The prediction for this image is: \", model.predict(input_img))\n",
        "print(prediction)\n",
        "#classes = label[np.argmax(prediction)]\n",
        "#print(classes)\n",
        "#print(label)\n",
        "#print(\"The actual label for this image is: \", y_test[n])\n"
      ],
      "metadata": {
        "id": "POvZlr1bhAFT",
        "colab": {
          "base_uri": "https://localhost:8080/"
        },
        "outputId": "64a001e5-3828-43fd-a3cb-de5a96460213"
      },
      "execution_count": 73,
      "outputs": [
        {
          "output_type": "stream",
          "name": "stdout",
          "text": [
            "['/Test/normal.BMP']\n",
            "[[177 133 141 ... 139 147 181]\n",
            " [139 147 181 ... 147 187 139]\n",
            " [147 189 141 ... 179 137 143]\n",
            " ...\n",
            " [141 147 191 ... 149 185 143]\n",
            " [149 181 133 ... 183 139 149]\n",
            " [183 139 149 ... 140 150 178]]\n",
            "WARNING:tensorflow:6 out of the last 8 calls to <function Model.make_predict_function.<locals>.predict_function at 0x7f81f0bff320> triggered tf.function retracing. Tracing is expensive and the excessive number of tracings could be due to (1) creating @tf.function repeatedly in a loop, (2) passing tensors with different shapes, (3) passing Python objects instead of tensors. For (1), please define your @tf.function outside of the loop. For (2), @tf.function has experimental_relax_shapes=True option that relaxes argument shapes that can avoid unnecessary retracing. For (3), please refer to https://www.tensorflow.org/guide/function#controlling_retracing and https://www.tensorflow.org/api_docs/python/tf/function for  more details.\n",
            "[[0.65575534]]\n"
          ]
        }
      ]
    },
    {
      "cell_type": "code",
      "source": [
        "from keras.models import load_model\n",
        "# load model\n",
        "#model = load_model('cancer_model.h5')\n",
        "\n",
        "#For 300 epochs, giving 82.5% accuracy\n",
        "\n",
        "#_, acc = model.evaluate(X_test, y_test)\n",
        "#print(\"Accuracy = \", (acc * 100.0), \"%\")"
      ],
      "metadata": {
        "id": "naAP_66bsdJ-"
      },
      "execution_count": 74,
      "outputs": []
    }
  ]
}